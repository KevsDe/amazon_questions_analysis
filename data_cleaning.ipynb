{
 "metadata": {
  "language_info": {
   "codemirror_mode": {
    "name": "ipython",
    "version": 3
   },
   "file_extension": ".py",
   "mimetype": "text/x-python",
   "name": "python",
   "nbconvert_exporter": "python",
   "pygments_lexer": "ipython3",
   "version": "3.8.5"
  },
  "orig_nbformat": 2,
  "kernelspec": {
   "name": "pythonjvsc74a57bd0e10d0ae7f0d602b29e1e8a193a4f0d4e2d575d45a25922c31e6f796bad78f7d2",
   "display_name": "Python 3.8.5  ('venv': venv)"
  },
  "metadata": {
   "interpreter": {
    "hash": "a67511aebd5722fc6d5239e129b188a4d5f08636446da39c21b7495f2b2f56da"
   }
  }
 },
 "nbformat": 4,
 "nbformat_minor": 2,
 "cells": [
  {
   "cell_type": "code",
   "execution_count": 3,
   "metadata": {},
   "outputs": [],
   "source": [
    "import pandas as pd\n",
    "import re"
   ]
  },
  {
   "cell_type": "code",
   "execution_count": 4,
   "metadata": {},
   "outputs": [],
   "source": [
    "df = pd.read_csv('output/amz_questions.csv')"
   ]
  },
  {
   "cell_type": "code",
   "execution_count": 5,
   "metadata": {},
   "outputs": [
    {
     "output_type": "display_data",
     "data": {
      "text/plain": "   Unnamed: 0           question\n0           0  Deliver to\\nSpain\n1           1  Deliver to\\nSpain\n2           2                NaN\n3           3                NaN\n4           4                NaN",
      "text/html": "<div>\n<style scoped>\n    .dataframe tbody tr th:only-of-type {\n        vertical-align: middle;\n    }\n\n    .dataframe tbody tr th {\n        vertical-align: top;\n    }\n\n    .dataframe thead th {\n        text-align: right;\n    }\n</style>\n<table border=\"1\" class=\"dataframe\">\n  <thead>\n    <tr style=\"text-align: right;\">\n      <th></th>\n      <th>Unnamed: 0</th>\n      <th>question</th>\n    </tr>\n  </thead>\n  <tbody>\n    <tr>\n      <th>0</th>\n      <td>0</td>\n      <td>Deliver to\\nSpain</td>\n    </tr>\n    <tr>\n      <th>1</th>\n      <td>1</td>\n      <td>Deliver to\\nSpain</td>\n    </tr>\n    <tr>\n      <th>2</th>\n      <td>2</td>\n      <td>NaN</td>\n    </tr>\n    <tr>\n      <th>3</th>\n      <td>3</td>\n      <td>NaN</td>\n    </tr>\n    <tr>\n      <th>4</th>\n      <td>4</td>\n      <td>NaN</td>\n    </tr>\n  </tbody>\n</table>\n</div>"
     },
     "metadata": {}
    },
    {
     "output_type": "display_data",
     "data": {
      "text/plain": "      Unnamed: 0                                           question\n3935        3935              Most Helpful first\\n            Ne...\n3936        3936                                 Most Helpful first\n3937        3937                                                NaN\n3938        3938                                                NaN\n3939        3939  1) are cows free from antibiotics and hormone ...",
      "text/html": "<div>\n<style scoped>\n    .dataframe tbody tr th:only-of-type {\n        vertical-align: middle;\n    }\n\n    .dataframe tbody tr th {\n        vertical-align: top;\n    }\n\n    .dataframe thead th {\n        text-align: right;\n    }\n</style>\n<table border=\"1\" class=\"dataframe\">\n  <thead>\n    <tr style=\"text-align: right;\">\n      <th></th>\n      <th>Unnamed: 0</th>\n      <th>question</th>\n    </tr>\n  </thead>\n  <tbody>\n    <tr>\n      <th>3935</th>\n      <td>3935</td>\n      <td>Most Helpful first\\n            Ne...</td>\n    </tr>\n    <tr>\n      <th>3936</th>\n      <td>3936</td>\n      <td>Most Helpful first</td>\n    </tr>\n    <tr>\n      <th>3937</th>\n      <td>3937</td>\n      <td>NaN</td>\n    </tr>\n    <tr>\n      <th>3938</th>\n      <td>3938</td>\n      <td>NaN</td>\n    </tr>\n    <tr>\n      <th>3939</th>\n      <td>3939</td>\n      <td>1) are cows free from antibiotics and hormone ...</td>\n    </tr>\n  </tbody>\n</table>\n</div>"
     },
     "metadata": {}
    }
   ],
   "source": [
    "display(df.head())\n",
    "display(df.tail())"
   ]
  },
  {
   "cell_type": "code",
   "execution_count": 6,
   "metadata": {},
   "outputs": [
    {
     "output_type": "execute_result",
     "data": {
      "text/plain": [
       "(3940, 2)"
      ]
     },
     "metadata": {},
     "execution_count": 6
    }
   ],
   "source": [
    "df.shape"
   ]
  },
  {
   "cell_type": "code",
   "execution_count": 7,
   "metadata": {},
   "outputs": [],
   "source": [
    "df.drop(columns=['Unnamed: 0'], inplace=True)"
   ]
  },
  {
   "cell_type": "code",
   "execution_count": 8,
   "metadata": {},
   "outputs": [
    {
     "output_type": "stream",
     "name": "stdout",
     "text": [
      "question\nTrue        2542\nFalse       1398\ndtype: int64\n"
     ]
    }
   ],
   "source": [
    "print(df.isna().value_counts())"
   ]
  },
  {
   "cell_type": "code",
   "execution_count": 9,
   "metadata": {},
   "outputs": [],
   "source": [
    "df.dropna(inplace=True)"
   ]
  },
  {
   "cell_type": "code",
   "execution_count": 10,
   "metadata": {},
   "outputs": [],
   "source": [
    " pd.options.display.max_colwidth = 120"
   ]
  },
  {
   "cell_type": "code",
   "execution_count": 11,
   "metadata": {},
   "outputs": [
    {
     "output_type": "execute_result",
     "data": {
      "text/plain": [
       "                                                                                             question\n",
       "0                                                                                   Deliver to\\nSpain\n",
       "1                                                                                   Deliver to\\nSpain\n",
       "17                                           Most Helpful first\\n            Newest First\\n          \n",
       "18                                                                                 Most Helpful first\n",
       "21                                                          What types of collagen does this contain?\n",
       "...                                                                                               ...\n",
       "3918                                                                                Deliver to\\nSpain\n",
       "3919                                                                                Deliver to\\nSpain\n",
       "3935                                         Most Helpful first\\n            Newest First\\n          \n",
       "3936                                                                               Most Helpful first\n",
       "3939  1) are cows free from antibiotics and hormone therapy? 2) is any extra feed in winter gmo free?\n",
       "\n",
       "[1398 rows x 1 columns]"
      ],
      "text/html": "<div>\n<style scoped>\n    .dataframe tbody tr th:only-of-type {\n        vertical-align: middle;\n    }\n\n    .dataframe tbody tr th {\n        vertical-align: top;\n    }\n\n    .dataframe thead th {\n        text-align: right;\n    }\n</style>\n<table border=\"1\" class=\"dataframe\">\n  <thead>\n    <tr style=\"text-align: right;\">\n      <th></th>\n      <th>question</th>\n    </tr>\n  </thead>\n  <tbody>\n    <tr>\n      <th>0</th>\n      <td>Deliver to\\nSpain</td>\n    </tr>\n    <tr>\n      <th>1</th>\n      <td>Deliver to\\nSpain</td>\n    </tr>\n    <tr>\n      <th>17</th>\n      <td>Most Helpful first\\n            Newest First\\n</td>\n    </tr>\n    <tr>\n      <th>18</th>\n      <td>Most Helpful first</td>\n    </tr>\n    <tr>\n      <th>21</th>\n      <td>What types of collagen does this contain?</td>\n    </tr>\n    <tr>\n      <th>...</th>\n      <td>...</td>\n    </tr>\n    <tr>\n      <th>3918</th>\n      <td>Deliver to\\nSpain</td>\n    </tr>\n    <tr>\n      <th>3919</th>\n      <td>Deliver to\\nSpain</td>\n    </tr>\n    <tr>\n      <th>3935</th>\n      <td>Most Helpful first\\n            Newest First\\n</td>\n    </tr>\n    <tr>\n      <th>3936</th>\n      <td>Most Helpful first</td>\n    </tr>\n    <tr>\n      <th>3939</th>\n      <td>1) are cows free from antibiotics and hormone therapy? 2) is any extra feed in winter gmo free?</td>\n    </tr>\n  </tbody>\n</table>\n<p>1398 rows × 1 columns</p>\n</div>"
     },
     "metadata": {},
     "execution_count": 11
    }
   ],
   "source": [
    "df.replace('\\n', ' ')"
   ]
  },
  {
   "cell_type": "code",
   "execution_count": 12,
   "metadata": {},
   "outputs": [],
   "source": [
    "df['question'] = df['question'].apply(lambda word: word.replace('\\n', ' '))"
   ]
  },
  {
   "cell_type": "code",
   "execution_count": 13,
   "metadata": {},
   "outputs": [],
   "source": [
    "df = df[df['question'] != 'Deliver to Spain']"
   ]
  },
  {
   "cell_type": "code",
   "execution_count": 14,
   "metadata": {},
   "outputs": [],
   "source": [
    "df.reset_index(inplace=True, drop=True)"
   ]
  },
  {
   "cell_type": "code",
   "execution_count": 15,
   "metadata": {},
   "outputs": [
    {
     "output_type": "stream",
     "name": "stdout",
     "text": [
      "(1246, 1)\n"
     ]
    },
    {
     "output_type": "execute_result",
     "data": {
      "text/plain": [
       "                                                                                                                  question\n",
       "0                                                                   Most Helpful first             Newest First           \n",
       "1                                                                                                       Most Helpful first\n",
       "2                                                                                What types of collagen does this contain?\n",
       "3                                                                                                        See all 3 answers\n",
       "4  Certified Halal/kosher - are the cattle ritually slaughtered? I am against this due to animal welfare? this should b..."
      ],
      "text/html": "<div>\n<style scoped>\n    .dataframe tbody tr th:only-of-type {\n        vertical-align: middle;\n    }\n\n    .dataframe tbody tr th {\n        vertical-align: top;\n    }\n\n    .dataframe thead th {\n        text-align: right;\n    }\n</style>\n<table border=\"1\" class=\"dataframe\">\n  <thead>\n    <tr style=\"text-align: right;\">\n      <th></th>\n      <th>question</th>\n    </tr>\n  </thead>\n  <tbody>\n    <tr>\n      <th>0</th>\n      <td>Most Helpful first             Newest First</td>\n    </tr>\n    <tr>\n      <th>1</th>\n      <td>Most Helpful first</td>\n    </tr>\n    <tr>\n      <th>2</th>\n      <td>What types of collagen does this contain?</td>\n    </tr>\n    <tr>\n      <th>3</th>\n      <td>See all 3 answers</td>\n    </tr>\n    <tr>\n      <th>4</th>\n      <td>Certified Halal/kosher - are the cattle ritually slaughtered? I am against this due to animal welfare? this should b...</td>\n    </tr>\n  </tbody>\n</table>\n</div>"
     },
     "metadata": {},
     "execution_count": 15
    }
   ],
   "source": [
    "print(df.shape)\n",
    "df.head()"
   ]
  },
  {
   "cell_type": "code",
   "execution_count": 16,
   "metadata": {},
   "outputs": [],
   "source": [
    "rows_idx =[]\n",
    "def string_row_finder(text: list):\n",
    "    for txt in text:\n",
    "        for idx in range(len(df['question'])):\n",
    "            if len(re.findall(rf\"{txt}\", df['question'][idx], re.IGNORECASE)) != 0:\n",
    "                rows_idx.append(idx)\n",
    "                "
   ]
  },
  {
   "cell_type": "code",
   "execution_count": 17,
   "metadata": {},
   "outputs": [],
   "source": [
    "find_text = ['\\d* ans\\w*', 'Most Helpful first']"
   ]
  },
  {
   "cell_type": "code",
   "execution_count": 18,
   "metadata": {},
   "outputs": [],
   "source": [
    "string_row_finder(find_text)"
   ]
  },
  {
   "cell_type": "code",
   "execution_count": 19,
   "metadata": {},
   "outputs": [],
   "source": [
    "df.drop(df.index[rows_idx], inplace=True)"
   ]
  },
  {
   "cell_type": "code",
   "execution_count": 20,
   "metadata": {},
   "outputs": [
    {
     "output_type": "stream",
     "name": "stdout",
     "text": [
      "(697, 1)\n"
     ]
    },
    {
     "output_type": "execute_result",
     "data": {
      "text/plain": [
       "                                                                                                                  question\n",
       "2                                                                                What types of collagen does this contain?\n",
       "4  Certified Halal/kosher - are the cattle ritually slaughtered? I am against this due to animal welfare? this should b...\n",
       "6                    Heavy metals and other contaminants: who tested your products and when please? Is every batch tested?\n",
       "7  I have elhers danlo hypermobility and would prefer a type i, ii, iii, as type i may not support type ii production i...\n",
       "9                                                                                   How long does one tub last for please?"
      ],
      "text/html": "<div>\n<style scoped>\n    .dataframe tbody tr th:only-of-type {\n        vertical-align: middle;\n    }\n\n    .dataframe tbody tr th {\n        vertical-align: top;\n    }\n\n    .dataframe thead th {\n        text-align: right;\n    }\n</style>\n<table border=\"1\" class=\"dataframe\">\n  <thead>\n    <tr style=\"text-align: right;\">\n      <th></th>\n      <th>question</th>\n    </tr>\n  </thead>\n  <tbody>\n    <tr>\n      <th>2</th>\n      <td>What types of collagen does this contain?</td>\n    </tr>\n    <tr>\n      <th>4</th>\n      <td>Certified Halal/kosher - are the cattle ritually slaughtered? I am against this due to animal welfare? this should b...</td>\n    </tr>\n    <tr>\n      <th>6</th>\n      <td>Heavy metals and other contaminants: who tested your products and when please? Is every batch tested?</td>\n    </tr>\n    <tr>\n      <th>7</th>\n      <td>I have elhers danlo hypermobility and would prefer a type i, ii, iii, as type i may not support type ii production i...</td>\n    </tr>\n    <tr>\n      <th>9</th>\n      <td>How long does one tub last for please?</td>\n    </tr>\n  </tbody>\n</table>\n</div>"
     },
     "metadata": {},
     "execution_count": 20
    }
   ],
   "source": [
    "print(df.shape)\n",
    "df.head()"
   ]
  },
  {
   "cell_type": "code",
   "execution_count": 21,
   "metadata": {},
   "outputs": [],
   "source": [
    "df.reset_index(inplace=True, drop=True)"
   ]
  },
  {
   "cell_type": "code",
   "execution_count": 23,
   "metadata": {},
   "outputs": [
    {
     "output_type": "execute_result",
     "data": {
      "text/plain": [
       "                                                                                                                  question\n",
       "0                                                                                What types of collagen does this contain?\n",
       "1  Certified Halal/kosher - are the cattle ritually slaughtered? I am against this due to animal welfare? this should b...\n",
       "2                    Heavy metals and other contaminants: who tested your products and when please? Is every batch tested?\n",
       "3  I have elhers danlo hypermobility and would prefer a type i, ii, iii, as type i may not support type ii production i...\n",
       "4                                                                                   How long does one tub last for please?\n",
       "5                                               Hello what grade of collagen is this and what is the mg strength per scoop\n",
       "6                                             Can you use this product to make gummies? If so please post the best recipe!\n",
       "7                                                                                         Is this collagen from cows only?\n",
       "8                                                                        Has anyone noticed hair growth with this product.\n",
       "9                                                              are there any interactions with other vitamins or minerals?"
      ],
      "text/html": "<div>\n<style scoped>\n    .dataframe tbody tr th:only-of-type {\n        vertical-align: middle;\n    }\n\n    .dataframe tbody tr th {\n        vertical-align: top;\n    }\n\n    .dataframe thead th {\n        text-align: right;\n    }\n</style>\n<table border=\"1\" class=\"dataframe\">\n  <thead>\n    <tr style=\"text-align: right;\">\n      <th></th>\n      <th>question</th>\n    </tr>\n  </thead>\n  <tbody>\n    <tr>\n      <th>0</th>\n      <td>What types of collagen does this contain?</td>\n    </tr>\n    <tr>\n      <th>1</th>\n      <td>Certified Halal/kosher - are the cattle ritually slaughtered? I am against this due to animal welfare? this should b...</td>\n    </tr>\n    <tr>\n      <th>2</th>\n      <td>Heavy metals and other contaminants: who tested your products and when please? Is every batch tested?</td>\n    </tr>\n    <tr>\n      <th>3</th>\n      <td>I have elhers danlo hypermobility and would prefer a type i, ii, iii, as type i may not support type ii production i...</td>\n    </tr>\n    <tr>\n      <th>4</th>\n      <td>How long does one tub last for please?</td>\n    </tr>\n    <tr>\n      <th>5</th>\n      <td>Hello what grade of collagen is this and what is the mg strength per scoop</td>\n    </tr>\n    <tr>\n      <th>6</th>\n      <td>Can you use this product to make gummies? If so please post the best recipe!</td>\n    </tr>\n    <tr>\n      <th>7</th>\n      <td>Is this collagen from cows only?</td>\n    </tr>\n    <tr>\n      <th>8</th>\n      <td>Has anyone noticed hair growth with this product.</td>\n    </tr>\n    <tr>\n      <th>9</th>\n      <td>are there any interactions with other vitamins or minerals?</td>\n    </tr>\n  </tbody>\n</table>\n</div>"
     },
     "metadata": {},
     "execution_count": 23
    }
   ],
   "source": [
    "df.head(10)"
   ]
  },
  {
   "cell_type": "code",
   "execution_count": 24,
   "metadata": {},
   "outputs": [],
   "source": [
    "df.to_csv('output/amz_questions.csv')"
   ]
  },
  {
   "cell_type": "code",
   "execution_count": null,
   "metadata": {},
   "outputs": [],
   "source": []
  }
 ]
}